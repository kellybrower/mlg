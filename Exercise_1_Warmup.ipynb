{
  "nbformat": 4,
  "nbformat_minor": 0,
  "metadata": {
    "colab": {
      "name": "Exercise 1 - Warmup",
      "provenance": [],
      "collapsed_sections": [],
      "include_colab_link": true
    },
    "kernelspec": {
      "name": "python3",
      "display_name": "Python 3"
    },
    "accelerator": "GPU"
  },
  "cells": [
    {
      "cell_type": "markdown",
      "metadata": {
        "id": "view-in-github",
        "colab_type": "text"
      },
      "source": [
        "<a href=\"https://colab.research.google.com/github/kellybrower/mlg/blob/master/Exercise_1_Warmup.ipynb\" target=\"_parent\"><img src=\"https://colab.research.google.com/assets/colab-badge.svg\" alt=\"Open In Colab\"/></a>"
      ]
    },
    {
      "cell_type": "markdown",
      "metadata": {
        "id": "Vi8jPBa-8Nx-",
        "colab_type": "text"
      },
      "source": [
        "![Logo](https://uploads-ssl.webflow.com/5a72b3a09e04c7000168f4de/5ce6005b22f44fde8ced717c_MD%20Horizontal.png)\n",
        "\n",
        "# Octavian.ai machine learning on graphs course\n",
        "\n",
        "Welcome to our summer course on graph ML.\n",
        "\n",
        "This course is primarily exercise based - you'll learn through reading and writing code, and answering the questions throughout these exercises.\n",
        "\n",
        "[Join our Discord](https://discord.gg/a2Z82Te) to chat with fellow enthusiasts about this exercise and give us feedback to direct the next one.\n",
        "\n",
        "## Exercise 1, the warm-up\n",
        "\n",
        "This is the first installment of our course! Thanks for joining us. \n",
        "\n",
        "In this exercise, I'll introduce you to:\n",
        "\n",
        "- [Tensorflow 2.0](https://www.tensorflow.org/alpha)\n",
        "- Python 3\n",
        "- Working with simple graph data\n",
        "- Classifying nodes in a graph\n",
        "\n",
        "There will be questions, areas to write code and also some discussion of choices made in crafting this.\n",
        "\n",
        "\n",
        "### The problem we'll work with\n",
        "\n",
        "In this exercise we will predict the political orientation (left learning vs right leaning) of a blog based on which other blogs it has links to/from.\n",
        "\n",
        "Our graph nodes will be blogs (e.g. a single domain with many pages) and the edges will be the links that blog has to other blogs (from any of its pages).\n",
        "\n",
        "This is a pretty neat dataset, from the paper [The Political Blogosphere and the 2004 U.S. Election: Divided They Blog](http://www.ramb.ethz.ch/CDstore/www2005-ws/workshop/wf10/AdamicGlanceBlogWWW.pdf). \n",
        "\n",
        "You can [download graph data here](http://konect.uni-koblenz.de/networks/moreno_blogs), however the solution template below will do that for you automatically.\n",
        "\n",
        "\n",
        "\n",
        "### Solution approach\n",
        "\n",
        "This is a fascinating problem as you can take many different approaches to it, from hand-crafted heuristics to complex machine learning.\n",
        "\n",
        "For the purposes of this warm-up, we’ll take a simple approach. It won’t be as capable as other approaches (e.g. its test accuracy will be sub-optimal).\n",
        "\n",
        "We’ll learn a function that determines a node’s political orientation L given its set of neighbours (represented as an unordered list of their orientations).\n",
        "\n",
        "The function will be a simple machine learning function. You'll write a simple dense layer for the first version, and then are encouraged to try other functions to see if they perform better.\n",
        "\n",
        "---\n",
        "\n",
        "## Get the data\n",
        "\n",
        "The first step in most machine learning experiments is to get hold of the required data.\n",
        "\n",
        "Universität Koblenz-Landau kindly have hosted this data. First let's download it and unarchive it:"
      ]
    },
    {
      "cell_type": "code",
      "metadata": {
        "id": "dBPgpvjkENXF",
        "colab_type": "code",
        "outputId": "cbc689aa-2721-446b-f285-2f7c61ef8a49",
        "colab": {
          "base_uri": "https://localhost:8080/",
          "height": 352
        }
      },
      "source": [
        "# Get data\n",
        "\n",
        "!wget http://konect.uni-koblenz.de/downloads/tsv/moreno_blogs.tar.bz2\n",
        "!tar xfvj moreno_blogs.tar.bz2"
      ],
      "execution_count": 0,
      "outputs": [
        {
          "output_type": "stream",
          "text": [
            "--2019-06-11 04:28:04--  http://konect.uni-koblenz.de/downloads/tsv/moreno_blogs.tar.bz2\n",
            "Resolving konect.uni-koblenz.de (konect.uni-koblenz.de)... 141.26.208.254\n",
            "Connecting to konect.uni-koblenz.de (konect.uni-koblenz.de)|141.26.208.254|:80... connected.\n",
            "HTTP request sent, awaiting response... 200 OK\n",
            "Length: 49912 (49K) [application/octet-stream]\n",
            "Saving to: ‘moreno_blogs.tar.bz2.4’\n",
            "\n",
            "moreno_blogs.tar.bz 100%[===================>]  48.74K   225KB/s    in 0.2s    \n",
            "\n",
            "2019-06-11 04:28:05 (225 KB/s) - ‘moreno_blogs.tar.bz2.4’ saved [49912/49912]\n",
            "\n",
            "moreno_blogs.tar.bz2\tmoreno_blogs.tar.bz2.2\tmoreno_blogs.tar.bz2.4\n",
            "moreno_blogs.tar.bz2.1\tmoreno_blogs.tar.bz2.3\tsample_data\n",
            "moreno_blogs/\n",
            "moreno_blogs/out.moreno_blogs_blogs\n",
            "moreno_blogs/meta.moreno_blogs_blogs\n",
            "moreno_blogs/README.moreno_blogs\n",
            "moreno_blogs/ent.moreno_blogs_blogs.blog.orientation\n"
          ],
          "name": "stdout"
        }
      ]
    },
    {
      "cell_type": "markdown",
      "metadata": {
        "id": "HArvXyS3fDuv",
        "colab_type": "text"
      },
      "source": [
        "Next, let's get the python libraries we'll need for the code:"
      ]
    },
    {
      "cell_type": "code",
      "metadata": {
        "id": "5KVsQeWUStwf",
        "colab_type": "code",
        "colab": {}
      },
      "source": [
        "# Set up Python environment\n",
        "!pip install -q tensorflow==2.0.0-alpha0\n",
        "\n",
        "from __future__ import absolute_import, division, print_function, unicode_literals\n",
        "\n",
        "import tensorflow as tf\n",
        "from tensorflow import keras\n",
        "from tensorflow.keras import layers\n",
        "\n",
        "import numpy as np"
      ],
      "execution_count": 0,
      "outputs": []
    },
    {
      "cell_type": "markdown",
      "metadata": {
        "id": "9Poaqqi6fJ3H",
        "colab_type": "text"
      },
      "source": [
        "Let's also define a couple of constants for later on:"
      ]
    },
    {
      "cell_type": "code",
      "metadata": {
        "id": "KwOACp-LyaMT",
        "colab_type": "code",
        "colab": {}
      },
      "source": [
        "# Define constants\n",
        "\n",
        "# How many neighhbors to consider when predicting a node's label\n",
        "# The fact that we fix this is quite interesting, more discussion\n",
        "# of this later.\n",
        "FIXED_NEIGHBOR_SIZE = 10\n",
        "\n",
        "# The batch size we'll bucket our data into before running the machine\n",
        "# learning functions\n",
        "BATCH_SIZE = 32"
      ],
      "execution_count": 0,
      "outputs": []
    },
    {
      "cell_type": "markdown",
      "metadata": {
        "id": "HCrP-GR4fdOI",
        "colab_type": "text"
      },
      "source": [
        "And now for processing the data.\n",
        "\n",
        "There are two files we'll process from the download:\n",
        "\n",
        "\n",
        "*   `out.moreno_blogs_blogs` Graph edges, expressed as pairs of node indices, where the first index is 1\n",
        "*  `ent.moreno_blogs_blogs.blog.orientation` The label (left-leaning or right-leaning) of each blog, expressed as one label per line, with the first line being the label for blog index 1\n",
        "\n",
        "\n",
        "To get the data ready for machine learning we need to represent it as training examples for the network. Our example format will be:\n",
        "* Input data: A list of neighbor labels, each represented as one-hot vectors left-leaning=[1,0] or right-learning[0,1]. \n",
        "* Expected output: A label, represented as an integer left-leaning=0 or right-leaning=1\n",
        "\n",
        "The machine learning function will try to learn a mapping between the input data and expected output.\n",
        "\n",
        "Once we've created the list of examples, we split them into training data (90% of the total) and test data (10% of the total)."
      ]
    },
    {
      "cell_type": "code",
      "metadata": {
        "id": "iGq9QH35q8Hg",
        "colab_type": "code",
        "outputId": "15ab1559-74ab-40e9-bff3-449d00897d3f",
        "colab": {
          "base_uri": "https://localhost:8080/",
          "height": 255
        }
      },
      "source": [
        "# Load the data\n",
        "\n",
        "import random\n",
        "import csv\n",
        "from sklearn.model_selection import train_test_split\n",
        "from collections import Counter\n",
        "import itertools\n",
        "\n",
        "\n",
        "def label_to_int(label):\n",
        "  '''\n",
        "    An incredibly simple token embedding. Translates binary tokens into int\n",
        "  '''\n",
        "  if label == 'left-leaning':\n",
        "    return 0\n",
        "  else:\n",
        "    return 1\n",
        "\n",
        "def label_to_vec(label):\n",
        "  '''\n",
        "    An incredibly simple token embedding. Translates binary tokens into one-hot vector\n",
        "  '''\n",
        "  if label == 'left-leaning':\n",
        "    return [1,0]\n",
        "  else:\n",
        "    return [0,1]\n",
        "\n",
        "def load_data():\n",
        "  '''\n",
        "    Transform data into the format needed for our training\n",
        "  '''\n",
        "  \n",
        "  edges = []\n",
        "  \n",
        "  with open('/content/moreno_blogs/out.moreno_blogs_blogs') as f:\n",
        "    reader = csv.reader(f, delimiter=' ')\n",
        "    for i in reader:\n",
        "      if i[0] != \"%\":\n",
        "        edges.append( (int(i[0])-1, int(i[1])-1) )\n",
        "      \n",
        "  labels = []\n",
        "  \n",
        "  with open('/content/moreno_blogs/ent.moreno_blogs_blogs.blog.orientation') as f:\n",
        "    reader = csv.reader(f, delimiter=' ')\n",
        "    for i in reader:\n",
        "      labels.append(i[0])\n",
        "      \n",
        "      \n",
        "  # Dataset for test and training\n",
        "  # (where L is a left/right label)\n",
        "  \n",
        "  # X are inputs: [L, L, L, L] list of neighbor labels\n",
        "  X = []\n",
        "  \n",
        "  # y are labels\n",
        "  y = []\n",
        "  \n",
        "  for (node_id, label) in enumerate(labels):\n",
        "    neighbors = set()\n",
        "    for (v1, v2) in edges:\n",
        "      if v1 == node_id:\n",
        "        neighbors.add(v2)\n",
        "      if v2 == node_id:\n",
        "        neighbors.add(v1)\n",
        "        \n",
        "    try:\n",
        "      neighbors.remove(node_id)\n",
        "    except:\n",
        "      # It's fine, we're just guarding against self-reference that would make this\n",
        "      # exercise a bit easier\n",
        "      pass\n",
        "        \n",
        "    neighbor_labels = [label_to_vec(labels[i]) for i in neighbors]\n",
        "    random.shuffle(neighbor_labels)\n",
        "    \n",
        "    X.append(neighbor_labels)\n",
        "    y.append(label_to_int(label))\n",
        "    \n",
        "  return X, y\n",
        "    \n",
        "\n",
        "X, y = load_data()\n",
        "\n",
        "print(\"Data statistics\")\n",
        "print(\"Number of data-points\", len(X))\n",
        "print(\"Average number of neighbors\", np.average([len(i) for i in X]))\n",
        "print(\"Max number of neighbors\", np.max([len(i) for i in X]))\n",
        "print(\"Min number of neighbors\", np.min([len(i) for i in X]))\n",
        "print(\"Distribution of labels\", Counter(y))\n",
        "\n",
        "X_train, X_test, y_train, y_test = train_test_split(X, y, test_size=0.15, random_state=42)\n",
        "\n",
        "print()\n",
        "print(\"Number of training examples\", len(X_train))\n",
        "print(\"Distribution of labels\", Counter(y_train))\n",
        "print(\"Example: \", X_train[90], \" has label \", y_train[90])\n",
        "\n",
        "print()\n",
        "print(\"Number of test examples\", len(X_test))\n",
        "print(\"Distribution of labels\", Counter(y_test))\n",
        "print(\"Example: \", X_test[0], \" has label \", y_test[0])"
      ],
      "execution_count": 0,
      "outputs": [
        {
          "output_type": "stream",
          "text": [
            "Data statistics\n",
            "Number of data-points 1224\n",
            "Average number of neighbors 27.312091503267975\n",
            "Max number of neighbors 351\n",
            "Min number of neighbors 1\n",
            "Distribution of labels Counter({1: 636, 0: 588})\n",
            "\n",
            "Number of training examples 1040\n",
            "Distribution of labels Counter({1: 542, 0: 498})\n",
            "Example:  [[0, 1], [0, 1], [0, 1], [0, 1], [1, 0], [1, 0], [1, 0], [1, 0], [0, 1], [1, 0], [1, 0]]  has label  1\n",
            "\n",
            "Number of test examples 184\n",
            "Distribution of labels Counter({1: 94, 0: 90})\n",
            "Example:  [[1, 0], [1, 0]]  has label  0\n"
          ],
          "name": "stdout"
        }
      ]
    },
    {
      "cell_type": "markdown",
      "metadata": {
        "id": "IA7GVElwiIWu",
        "colab_type": "text"
      },
      "source": [
        "Now that we have our data represented as python lists, we will package it up for TensorFlow into [Dataset](https://www.tensorflow.org/versions/r2.0/api_docs/python/tf/data/Dataset) instances.\n",
        "\n",
        "### Fixed sized data\n",
        "\n",
        "As alluded to earlier, TensorFlow strongly prefers our data to be of fixed size. In our input data we include a list of each nodes' neighbors. A node can have any number of neighbors, from zero to every other node in the graph. This is certainly not a fixed sized list!\n",
        "\n",
        "To solve this, here I define a function to force the lists to be an exact size - either by padding them or cropping them. This is bad for a few reasons:\n",
        "* It throws away useful information if there are too many edges\n",
        "* It creates extra arithmetic work for the machine learning to do when there are too few edges\n",
        "\n",
        "**QUESTIONS FOR KEEN STUDENTS:** \n",
        "* Why does TensorFlow prefer fixed sized data? \n",
        "* How can we feed variable length data into TensorFlow and what are the downsides? \n",
        "* How much of a problem is it if we discard some edges?\n",
        "* How much of a problem is it if we use a really `high target_len`?\n",
        "* What other approaches could we take to solving this problem? \n",
        "\n",
        "Note that this is a somewhat unsolved problem in Graph Machine Learning, you won't find a simple answer. In considering the trade-offs and roots of this problem, you'll be better equiped to develop successful systems.\n",
        "\n",
        "### Datasets\n",
        "\n",
        "We use the TensorFlow Dataset object for easy data manipulation. This also lets us:\n",
        "* Split the data into [mini-batches](https://machinelearningmastery.com/gentle-introduction-mini-batch-gradient-descent-configure-batch-size/)\n",
        "* Shuffle the data (the default is that it'll be reshuffled each epoch)"
      ]
    },
    {
      "cell_type": "code",
      "metadata": {
        "id": "h-7_i738h6aE",
        "colab_type": "code",
        "colab": {}
      },
      "source": [
        "\n",
        "def fix_size_of_list(data, target_len=FIXED_NEIGHBOR_SIZE):\n",
        "  '''\n",
        "  This function highlights one of the central challenges of graph data:\n",
        "  it is naturally variable sized and frameworks like TensorFlow want\n",
        "  fixed sized tensor data.\n",
        "  \n",
        "  Our simplistic solution is to fix the size - we chop it down if too large, or\n",
        "  zero pad it if too small.\n",
        "  '''\n",
        "  \n",
        "  delta = len(data) - target_len\n",
        "  \n",
        "  if delta >= 0:\n",
        "    return data[0:target_len]\n",
        "  else:\n",
        "    return np.pad(data, [(0, -delta), (0,0)], mode='constant', constant_values=0)\n",
        "\n",
        "\n",
        "# Create TensorFlow dataset objects ready for training and evaluation\n",
        "\n",
        "## Training data\n",
        "\n",
        "X_train_fixed = [fix_size_of_list(i) for i in X_train]\n",
        "\n",
        "dataset_train = tf.data.Dataset.from_tensor_slices(( X_train_fixed , y_train))\n",
        "dataset_train = dataset_train.batch(BATCH_SIZE)\n",
        "dataset_train = dataset_train.shuffle(BATCH_SIZE * 10)\n",
        "\n",
        "## Test data\n",
        "\n",
        "X_test_fixed = [fix_size_of_list(i) for i in X_test]\n",
        "\n",
        "dataset_test = tf.data.Dataset.from_tensor_slices(( X_test_fixed , y_test))\n",
        "dataset_test = dataset_test.batch(BATCH_SIZE)"
      ],
      "execution_count": 0,
      "outputs": []
    },
    {
      "cell_type": "markdown",
      "metadata": {
        "id": "bAaFh-et5v8U",
        "colab_type": "text"
      },
      "source": [
        "# The machine learning model\n",
        "\n",
        "Welcome to the exciting part - we've got our data in order and now we get to engineer a model to solve it.\n",
        "\n",
        "We'll use the [Keras API](https://keras.io) here as it's simple and quick to get running. \n",
        "\n",
        "There are a couple of steps to our model:\n",
        "\n",
        "1. Define a sequence of layers\n",
        "2. Compile the model to use our desired loss function, optimizer and metrics\n",
        "3. Train the model to fit our training data\n",
        "4. Evaluate the model on our test data\n",
        "\n",
        "The goal is to get as high a test accuracy as possible (e.g. how well the model predicts labels on the test data after training on the training data).\n",
        "\n",
        "Our model takes a list of neighbor labels, and outputs the probablilty of each possible label (`left-leaning` or `right-leaning`) as a vector of width two (since it represents a [one-hot-vector](https://hackernoon.com/what-is-one-hot-encoding-why-and-when-do-you-have-to-use-it-e3c6186d008f)). We use a [softmax](http://cs231n.github.io/linear-classify/#softmax) activation to push the vector into looking like a probability distribution (e.g. it sums to 1.0)\n",
        "\n",
        "**EXERCISE**: Add a [dense layer](https://www.tensorflow.org/api_docs/python/tf/keras/layers/Dense) "
      ]
    },
    {
      "cell_type": "code",
      "metadata": {
        "id": "J0TmIQSpErmY",
        "colab_type": "code",
        "outputId": "8491142e-d6aa-4796-d30b-0be1099613b4",
        "colab": {
          "base_uri": "https://localhost:8080/",
          "height": 255
        }
      },
      "source": [
        "model = keras.Sequential([\n",
        "  layers.Input(shape=[FIXED_NEIGHBOR_SIZE, 2]),\n",
        "  layers.Flatten(),\n",
        "  layers.Dense(2),\n",
        "  layers.Softmax()\n",
        "])\n",
        "\n",
        "model.summary()\n",
        "\n"
      ],
      "execution_count": 0,
      "outputs": [
        {
          "output_type": "stream",
          "text": [
            "Model: \"sequential_1\"\n",
            "_________________________________________________________________\n",
            "Layer (type)                 Output Shape              Param #   \n",
            "=================================================================\n",
            "flatten_1 (Flatten)          (None, 20)                0         \n",
            "_________________________________________________________________\n",
            "dense_1 (Dense)              (None, 2)                 42        \n",
            "_________________________________________________________________\n",
            "softmax_1 (Softmax)          (None, 2)                 0         \n",
            "=================================================================\n",
            "Total params: 42\n",
            "Trainable params: 42\n",
            "Non-trainable params: 0\n",
            "_________________________________________________________________\n"
          ],
          "name": "stdout"
        }
      ]
    },
    {
      "cell_type": "markdown",
      "metadata": {
        "id": "OuLOm3Dvoa9-",
        "colab_type": "text"
      },
      "source": [
        "Now the model's written, we can train and test it:"
      ]
    },
    {
      "cell_type": "code",
      "metadata": {
        "id": "ziEh3RzkoY7P",
        "colab_type": "code",
        "outputId": "318662b7-cf15-441f-a921-675a09cf9f5d",
        "colab": {
          "base_uri": "https://localhost:8080/",
          "height": 578
        }
      },
      "source": [
        "\n",
        "model.compile(loss='sparse_categorical_crossentropy', optimizer='adam', metrics=['accuracy'])\n",
        "\n",
        "print(\"Training:\")\n",
        "history = model.fit(dataset_train, epochs=13, verbose=1)\n",
        "\n",
        "print(\"\\n\\nFinal test accuracy:\")\n",
        "\n",
        "results = model.evaluate(dataset_test)\n",
        "\n",
        "for l, v in zip(model.metrics_names, results):\n",
        "  print(l, v)\n",
        "\n"
      ],
      "execution_count": 0,
      "outputs": [
        {
          "output_type": "stream",
          "text": [
            "Training:\n",
            "Epoch 1/13\n",
            "33/33 [==============================] - 0s 9ms/step - loss: 0.9694 - accuracy: 0.2654\n",
            "Epoch 2/13\n",
            "33/33 [==============================] - 0s 2ms/step - loss: 0.7800 - accuracy: 0.5356\n",
            "Epoch 3/13\n",
            "33/33 [==============================] - 0s 2ms/step - loss: 0.6432 - accuracy: 0.6462\n",
            "Epoch 4/13\n",
            "33/33 [==============================] - 0s 1ms/step - loss: 0.5468 - accuracy: 0.6933\n",
            "Epoch 5/13\n",
            "33/33 [==============================] - 0s 2ms/step - loss: 0.4781 - accuracy: 0.7481\n",
            "Epoch 6/13\n",
            "33/33 [==============================] - 0s 2ms/step - loss: 0.4277 - accuracy: 0.7837\n",
            "Epoch 7/13\n",
            "33/33 [==============================] - 0s 2ms/step - loss: 0.3895 - accuracy: 0.7856\n",
            "Epoch 8/13\n",
            "33/33 [==============================] - 0s 2ms/step - loss: 0.3598 - accuracy: 0.8115\n",
            "Epoch 9/13\n",
            "33/33 [==============================] - 0s 2ms/step - loss: 0.3361 - accuracy: 0.8519\n",
            "Epoch 10/13\n",
            "33/33 [==============================] - 0s 1ms/step - loss: 0.3167 - accuracy: 0.8663\n",
            "Epoch 11/13\n",
            "33/33 [==============================] - 0s 2ms/step - loss: 0.3007 - accuracy: 0.9221\n",
            "Epoch 12/13\n",
            "33/33 [==============================] - 0s 2ms/step - loss: 0.2872 - accuracy: 0.9346\n",
            "Epoch 13/13\n",
            "33/33 [==============================] - 0s 2ms/step - loss: 0.2757 - accuracy: 0.9365\n",
            "\n",
            "\n",
            "Final test accuracy:\n",
            "6/6 [==============================] - 0s 15ms/step - loss: 0.2218 - accuracy: 0.9348\n",
            "loss 0.22181462744871774\n",
            "accuracy 0.9347826\n"
          ],
          "name": "stdout"
        }
      ]
    },
    {
      "cell_type": "code",
      "metadata": {
        "id": "sll-5EZ3XPCj",
        "colab_type": "code",
        "outputId": "3775a300-5aeb-420e-c8f5-ae8f6ca41e37",
        "colab": {
          "base_uri": "https://localhost:8080/",
          "height": 288
        }
      },
      "source": [
        "import matplotlib.pyplot as plt \n",
        "\n",
        "training_loss = history.history['loss']\n",
        "training_acc = history.history['accuracy']\n",
        "#test_loss = history.history['val_loss']\n",
        "\n",
        "epoch_count = range(1, len(training_loss)+1)\n",
        "\n",
        "#plt.figure(figsize=[8,6])\n",
        "line1 = plt.plot(epoch_count, training_loss, 'r--', linewidth=2.0)\n",
        "line2 = plt.plot(epoch_count, training_acc, 'b-', linewidth=1.0)\n",
        "plt.xlabel('Epochs ', fontsize=16)\n",
        "plt.legend(['Loss', 'Accuracy'])\n",
        "plt.show()"
      ],
      "execution_count": 0,
      "outputs": [
        {
          "output_type": "display_data",
          "data": {
            "image/png": "[encoded data removed]",
            "text/plain": [
              "<Figure size 432x288 with 1 Axes>"
            ]
          },
          "metadata": {
            "tags": []
          }
        }
      ]
    },
    {
      "cell_type": "markdown",
      "metadata": {
        "id": "AKY3MNq6l6hx",
        "colab_type": "text"
      },
      "source": [
        "\n",
        "\n",
        "## Exercise\n",
        "\n",
        "The first half of the exercise is simply to understand and think about the code shared above. If this is as far as you get, that’s ok - there will be more exercises later and more “fill in the code blanks”.\n",
        "\n",
        "The second half is to try altering the code and see how your changes perform. The important thing is trying out things and thinking about how they perform, this is the core skill of research.\n",
        "\n",
        "### Things to try\n",
        "\n",
        "- Complete the code above, run the notebook and see it work!\n",
        "- What happens if you increase the number of training epochs? Decrease them? ([hint](https://hackernoon.com/what-is-one-hot-encoding-why-and-when-do-you-have-to-use-it-e3c6186d008f))\n",
        "- What is the worst test accuracy this model could achieve?\n",
        "- See what test accuracy the code achieves - does it seem good or bad?\n",
        "- Come up with an explanation of why it achieves this test accuracy\n",
        "- Try to improve the test accuracy. These may or may not work, record in the experiment log below your findings.\n",
        "  - Try editing the fixed size of the neighbor list\n",
        "  - Try more dense layers\n",
        "  - Try a 1d convolution across the neighbors’ labels, then sum that\n",
        "  - Try including the neighbors’ neighbors in the dataset and see if that helps\n",
        "  - Try including the adjacency matrix and performing multiple iterations of graph-convolution\n",
        "  - Try a harder variation of this problem: Remove x% of the neighbor labels and see how well your solution categorizes the nodes.\n",
        "  \n",
        "  \n",
        "  ### Experiment log\n",
        "  \n",
        "  * Experiment tried e.g. I added a second dense layer\n",
        "    * Result e.g. Test accuracy was XX%\n",
        "    * Observations e.g. I saw the loss plateux in epoch X\n",
        "\n",
        "\n"
      ]
    }
  ]
}